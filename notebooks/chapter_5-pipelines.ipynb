{
 "cells": [
  {
   "cell_type": "code",
   "execution_count": 1,
   "metadata": {},
   "outputs": [
    {
     "ename": "ModuleNotFoundError",
     "evalue": "No module named 'sklearn'",
     "output_type": "error",
     "traceback": [
      "\u001b[1;31m---------------------------------------------------------------------------\u001b[0m",
      "\u001b[1;31mModuleNotFoundError\u001b[0m                       Traceback (most recent call last)",
      "Cell \u001b[1;32mIn[1], line 3\u001b[0m\n\u001b[0;32m      1\u001b[0m \u001b[38;5;28;01mimport\u001b[39;00m \u001b[38;5;21;01mos\u001b[39;00m                                                   \u001b[38;5;66;03m# to set current working directory \u001b[39;00m\n\u001b[0;32m      2\u001b[0m \u001b[38;5;28;01mimport\u001b[39;00m \u001b[38;5;21;01mmath\u001b[39;00m                                                 \u001b[38;5;66;03m# basic calculations like square root\u001b[39;00m\n\u001b[1;32m----> 3\u001b[0m \u001b[38;5;28;01mfrom\u001b[39;00m \u001b[38;5;21;01msklearn\u001b[39;00m\u001b[38;5;21;01m.\u001b[39;00m\u001b[38;5;21;01mneighbors\u001b[39;00m \u001b[38;5;28;01mimport\u001b[39;00m KNeighborsRegressor           \u001b[38;5;66;03m# for nearest k neighbours\u001b[39;00m\n\u001b[0;32m      4\u001b[0m \u001b[38;5;28;01mfrom\u001b[39;00m \u001b[38;5;21;01msklearn\u001b[39;00m \u001b[38;5;28;01mimport\u001b[39;00m tree                                    \u001b[38;5;66;03m# decision trees\u001b[39;00m\n\u001b[0;32m      5\u001b[0m \u001b[38;5;28;01mfrom\u001b[39;00m \u001b[38;5;21;01msklearn\u001b[39;00m \u001b[38;5;28;01mimport\u001b[39;00m metrics                                 \u001b[38;5;66;03m# measures to check our models\u001b[39;00m\n",
      "\u001b[1;31mModuleNotFoundError\u001b[0m: No module named 'sklearn'"
     ]
    }
   ],
   "source": [
    "import os                                                   # to set current working directory \n",
    "import math                                                 # basic calculations like square root\n",
    "from sklearn.neighbors import KNeighborsRegressor           # for nearest k neighbours\n",
    "from sklearn import tree                                    # decision trees\n",
    "from sklearn import metrics                                 # measures to check our models\n",
    "from sklearn.model_selection import cross_val_score         # cross validation methods\n",
    "import pandas as pd                                         # DataFrames and plotting\n",
    "import pandas.plotting as pd_plot\n",
    "import numpy as np                                          # arrays and matrix math\n",
    "import matplotlib.pyplot as plt                             # plotting\n",
    "from matplotlib import gridspec\n",
    "from subprocess import check_call\n",
    "from sklearn.model_selection import train_test_split        # train and test split\n",
    "from sklearn.preprocessing import StandardScaler            # data transformation\n",
    "from sklearn.pipeline import Pipeline                       # machine learning modeling pipeline\n",
    "from sklearn.pipeline import make_pipeline                  # machine learning modeling pipeline\n",
    "from sklearn.model_selection import GridSearchCV            # model hyperparameter grid search\n",
    "from sklearn.model_selection import KFold                   # k-fold cross validation\n",
    "seed = 73073                                                # random number seed"
   ]
  }
 ],
 "metadata": {
  "kernelspec": {
   "display_name": "datavenv",
   "language": "python",
   "name": "python3"
  },
  "language_info": {
   "codemirror_mode": {
    "name": "ipython",
    "version": 3
   },
   "file_extension": ".py",
   "mimetype": "text/x-python",
   "name": "python",
   "nbconvert_exporter": "python",
   "pygments_lexer": "ipython3",
   "version": "3.9.5"
  }
 },
 "nbformat": 4,
 "nbformat_minor": 2
}
