{
  "nbformat": 4,
  "nbformat_minor": 0,
  "metadata": {
    "colab": {
      "provenance": [],
      "authorship_tag": "ABX9TyMRaWMCD7Fl0RKmgKQ/SeKZ",
      "include_colab_link": true
    },
    "kernelspec": {
      "name": "python3",
      "display_name": "Python 3"
    },
    "language_info": {
      "name": "python"
    }
  },
  "cells": [
    {
      "cell_type": "markdown",
      "metadata": {
        "id": "view-in-github",
        "colab_type": "text"
      },
      "source": [
        "<a href=\"https://colab.research.google.com/github/dominikjanyga/statistics_for_data_science/blob/main/chapter_1-exploratory_data_analysis.ipynb\" target=\"_parent\"><img src=\"https://colab.research.google.com/assets/colab-badge.svg\" alt=\"Open In Colab\"/></a>"
      ]
    },
    {
      "cell_type": "markdown",
      "source": [
        "# Chapter 1 - Exploratory Data Analysis\n"
      ],
      "metadata": {
        "id": "wJ2wKe8jFXam"
      }
    },
    {
      "cell_type": "markdown",
      "source": [
        "Structured data:\n",
        "-tables"
      ],
      "metadata": {
        "id": "nM_ahpK-JPJI"
      }
    },
    {
      "cell_type": "markdown",
      "source": [
        "Data:\n",
        "- numerical\n",
        "  - discrete\n",
        "  - continuouos\n",
        "- categorical\n",
        " - binary\n",
        " -"
      ],
      "metadata": {
        "id": "MXMS6ObNJZ-o"
      }
    },
    {
      "cell_type": "code",
      "execution_count": 1,
      "metadata": {
        "id": "YEuoaJzLFGdl"
      },
      "outputs": [],
      "source": []
    },
    {
      "cell_type": "code",
      "source": [],
      "metadata": {
        "id": "F1atOXmKFVk9"
      },
      "execution_count": null,
      "outputs": []
    }
  ]
}